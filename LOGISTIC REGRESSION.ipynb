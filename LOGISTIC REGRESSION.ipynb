{
 "cells": [
  {
   "cell_type": "code",
   "execution_count": 1,
   "metadata": {},
   "outputs": [],
   "source": [
    "import pandas as pd\n",
    "import numpy as np\n",
    "import xgboost as xgb\n",
    "from sklearn.metrics import mean_squared_error\n",
    "from sklearn.model_selection import train_test_split"
   ]
  },
  {
   "cell_type": "code",
   "execution_count": 2,
   "metadata": {},
   "outputs": [],
   "source": [
    "# Desactivo warning molesto\n",
    "pd.options.mode.chained_assignment = None  # default='warn'"
   ]
  },
  {
   "cell_type": "code",
   "execution_count": 3,
   "metadata": {},
   "outputs": [],
   "source": [
    "eventos = pd.read_csv('/home/lautaro/Desktop/events_up_to_01062018.csv', low_memory=False)"
   ]
  },
  {
   "cell_type": "code",
   "execution_count": 4,
   "metadata": {},
   "outputs": [],
   "source": [
    "labels = pd.read_csv('/home/lautaro/Desktop/labels_training_set.csv')"
   ]
  },
  {
   "cell_type": "code",
   "execution_count": 5,
   "metadata": {},
   "outputs": [],
   "source": [
    "eventos[\"timestamp\"] = pd.to_datetime(eventos[\"timestamp\"])"
   ]
  },
  {
   "cell_type": "code",
   "execution_count": 6,
   "metadata": {},
   "outputs": [],
   "source": [
    "eventos['marca'] = eventos['model'].str.split(' ', n = 1, expand = True)[0]"
   ]
  },
  {
   "cell_type": "code",
   "execution_count": 7,
   "metadata": {},
   "outputs": [],
   "source": [
    "eventos['Samsung'] = (eventos['marca'] == 'Samsung')\n",
    "eventos['iPhone'] = (eventos['marca'] == 'iPhone')\n",
    "eventos['LG'] = (eventos['marca'] == 'LG')\n",
    "eventos['Motorola'] = (eventos['marca'] == 'Motorola')\n",
    "eventos['iPad'] = (eventos['marca'] == 'iPad')\n",
    "eventos['Sony'] = (eventos['marca'] == 'Sony')\n",
    "eventos['Lenovo'] = (eventos['marca'] == 'Lenovo')\n",
    "eventos['Quantum'] = (eventos['marca'] == 'Quantum')\n",
    "eventos['Asus'] = (eventos['marca'] == 'Asus')\n",
    "eventos['Xiaomi'] = (eventos['marca'] == 'Xiaomi')\n",
    "eventos['Outros'] = (eventos['marca'] == 'Outros')"
   ]
  },
  {
   "cell_type": "code",
   "execution_count": 8,
   "metadata": {},
   "outputs": [],
   "source": [
    "eventos['viewed_product'] = (eventos['event'] == 'viewed product')\n",
    "eventos['brand_listing'] = (eventos['event'] == 'brand listing')\n",
    "eventos['visited_site'] = (eventos['event'] == 'visited site')\n",
    "eventos['ad_campaign_hit'] = (eventos['event'] == 'ad campaign hit')\n",
    "eventos['generic_listing'] = (eventos['event'] == 'generic listing')\n",
    "eventos['searched_products'] = (eventos['event'] == 'searched products')\n",
    "eventos['search_engine_hit'] = (eventos['event'] == 'search engine hit')\n",
    "eventos['checkout'] = (eventos['event'] == 'checkout')\n",
    "eventos['staticpage'] = (eventos['event'] == 'staticpage')\n",
    "eventos['conversion'] = (eventos['event'] == 'conversion')\n",
    "eventos['lead'] = (eventos['event'] == 'lead')"
   ]
  },
  {
   "cell_type": "code",
   "execution_count": 9,
   "metadata": {},
   "outputs": [],
   "source": [
    "eventos[\"mes\"] = eventos[\"timestamp\"].dt.month\n",
    "eventos[\"dia\"] = eventos[\"timestamp\"].dt.dayofyear\n",
    "eventos[\"semana\"] = eventos[\"timestamp\"].dt.week"
   ]
  },
  {
   "cell_type": "code",
   "execution_count": 10,
   "metadata": {},
   "outputs": [],
   "source": [
    "# Obtengo la ultima fecha disponible en el csv para tener un punto de partida\n",
    "ultima_fecha = eventos[\"timestamp\"].max()\n",
    "ultimo_dia = ultima_fecha.dayofyear\n",
    "ultimo_mes = ultima_fecha.month\n",
    "ultima_semana = ultima_fecha.week"
   ]
  },
  {
   "cell_type": "code",
   "execution_count": 11,
   "metadata": {},
   "outputs": [],
   "source": [
    "# Agrego columnas para los m meses más cercanos\n",
    "for m in range (0, ultimo_mes):\n",
    "    eventos[\"mes_pasado_\" + str(m)] = (eventos[\"mes\"] == (ultimo_mes - m))"
   ]
  },
  {
   "cell_type": "code",
   "execution_count": 12,
   "metadata": {},
   "outputs": [],
   "source": [
    "# Agrego columnas para las s semanas más cercanas\n",
    "for s in range (0, 5):\n",
    "    eventos[\"semana_pasada_\" + str(s)] = (eventos[\"semana\"] == (ultima_semana - s))"
   ]
  },
  {
   "cell_type": "code",
   "execution_count": 13,
   "metadata": {},
   "outputs": [],
   "source": [
    "# Agrego columnas para los d días más cercanos\n",
    "for d in range (0, 7):\n",
    "    eventos[\"dia_pasado_\" + str(d)] = (eventos[\"dia\"] == (ultimo_dia - d))"
   ]
  },
  {
   "cell_type": "code",
   "execution_count": 14,
   "metadata": {},
   "outputs": [
    {
     "name": "stderr",
     "output_type": "stream",
     "text": [
      "/home/lautaro/anaconda2/lib/python2.7/site-packages/pandas/core/indexing.py:1472: FutureWarning: \n",
      "Passing list-likes to .loc or [] with any missing label will raise\n",
      "KeyError in the future, you can use .reindex() as an alternative.\n",
      "\n",
      "See the documentation here:\n",
      "https://pandas.pydata.org/pandas-docs/stable/indexing.html#deprecate-loc-reindex-listlike\n",
      "  return self._getitem_tuple(key)\n"
     ]
    }
   ],
   "source": [
    "eventos = eventos.loc[:,['person', 'viewed_product', 'brand_listing', 'visited_site',\n",
    "       'ad_campaign_hit', 'generic_listing', 'searched_products',\n",
    "       'Samsung', 'iPhone', 'LG', 'Motorola', 'iPad', 'Sony',\n",
    "       'Lenovo', 'Quantum', 'Asus', 'Xiaomi', 'Outros',\n",
    "       'search_engine_hit', 'checkout', 'conversion', 'lead',\n",
    "       'mes_pasado_0', 'mes_pasado_1', 'mes_pasado_2', 'mes_pasado_3', 'mes_pasado_4'\n",
    "       'semana_pasada_0', 'semana_pasada_1', 'semana_pasada_2',\n",
    "       'semana_pasada_3', 'semana_pasada_4',\n",
    "       'dia_pasado_0', 'dia_pasado_1', 'dia_pasado_2', 'dia_pasado_3', 'dia_pasado_4', \n",
    "        'dia_pasado_5', 'dia_pasado_6']]"
   ]
  },
  {
   "cell_type": "code",
   "execution_count": 17,
   "metadata": {},
   "outputs": [],
   "source": [
    "usuarios = eventos.groupby('person', as_index=False).sum()"
   ]
  },
  {
   "cell_type": "code",
   "execution_count": 18,
   "metadata": {},
   "outputs": [],
   "source": [
    "# Incluyo solo los eventos de los usuarios que tengo labels\n",
    "usuarios_con_labels = usuarios.loc[usuarios['person'].isin(labels['person'])]"
   ]
  },
  {
   "cell_type": "code",
   "execution_count": 19,
   "metadata": {},
   "outputs": [],
   "source": [
    "usuarios_con_labels = usuarios_con_labels.set_index('person')"
   ]
  },
  {
   "cell_type": "code",
   "execution_count": 20,
   "metadata": {},
   "outputs": [],
   "source": [
    "labels = labels.set_index('person')"
   ]
  },
  {
   "cell_type": "code",
   "execution_count": 22,
   "metadata": {},
   "outputs": [],
   "source": [
    "usuarios_con_labels = usuarios_con_labels.join(labels, lsuffix='person', rsuffix='person')"
   ]
  },
  {
   "cell_type": "code",
   "execution_count": 23,
   "metadata": {},
   "outputs": [],
   "source": [
    "X = usuarios_con_labels.iloc[:,:-1]"
   ]
  },
  {
   "cell_type": "code",
   "execution_count": 24,
   "metadata": {},
   "outputs": [],
   "source": [
    "Y = usuarios_con_labels.iloc[:,-1]"
   ]
  },
  {
   "cell_type": "code",
   "execution_count": 27,
   "metadata": {},
   "outputs": [],
   "source": [
    "x_train, x_test, y_train, y_test = train_test_split(X, Y, test_size=0.2, random_state=123)"
   ]
  },
  {
   "cell_type": "code",
   "execution_count": 21,
   "metadata": {},
   "outputs": [],
   "source": [
    "# FIN DE LA PREPARACION DE LOS DATAFRAMES"
   ]
  },
  {
   "cell_type": "code",
   "execution_count": 42,
   "metadata": {},
   "outputs": [],
   "source": [
    "from sklearn.linear_model import LogisticRegression"
   ]
  },
  {
   "cell_type": "code",
   "execution_count": 43,
   "metadata": {},
   "outputs": [
    {
     "data": {
      "text/plain": [
       "LogisticRegression(C=1.0, class_weight=None, dual=False, fit_intercept=True,\n",
       "          intercept_scaling=1, max_iter=100, multi_class='ovr', n_jobs=1,\n",
       "          penalty='l2', random_state=None, solver='liblinear', tol=0.0001,\n",
       "          verbose=0, warm_start=False)"
      ]
     },
     "execution_count": 43,
     "metadata": {},
     "output_type": "execute_result"
    }
   ],
   "source": [
    "logreg = LogisticRegression()\n",
    "logreg.fit(X_train,y_train)"
   ]
  },
  {
   "cell_type": "code",
   "execution_count": 57,
   "metadata": {},
   "outputs": [],
   "source": [
    "preds = logreg.predict_proba(x_test)[:,1]"
   ]
  },
  {
   "cell_type": "code",
   "execution_count": 58,
   "metadata": {},
   "outputs": [
    {
     "data": {
      "text/plain": [
       "array([0.026709  , 0.05572017, 0.04391651, ..., 0.05452287, 0.0418393 ,\n",
       "       0.04552204])"
      ]
     },
     "execution_count": 58,
     "metadata": {},
     "output_type": "execute_result"
    }
   ],
   "source": [
    "preds"
   ]
  },
  {
   "cell_type": "code",
   "execution_count": 59,
   "metadata": {},
   "outputs": [
    {
     "data": {
      "text/plain": [
       "0.949781097089879"
      ]
     },
     "execution_count": 59,
     "metadata": {},
     "output_type": "execute_result"
    }
   ],
   "source": [
    "logreg.score(x_test, y_test)"
   ]
  },
  {
   "cell_type": "code",
   "execution_count": 60,
   "metadata": {},
   "outputs": [
    {
     "data": {
      "text/plain": [
       "0.7223535534592979"
      ]
     },
     "execution_count": 60,
     "metadata": {},
     "output_type": "execute_result"
    }
   ],
   "source": [
    "import numpy as np\n",
    "from sklearn import metrics\n",
    "fpr, tpr, thresholds = metrics.roc_curve(y_test, preds)\n",
    "metrics.auc(fpr, tpr)"
   ]
  },
  {
   "cell_type": "code",
   "execution_count": 61,
   "metadata": {},
   "outputs": [],
   "source": [
    "# Ahora tengo que predecir los de prueba de Kaggle\n",
    "ids_usuarios_kaggle = pd.read_csv('/home/lautaro/Desktop/trocafone_kaggle_test.csv')"
   ]
  },
  {
   "cell_type": "code",
   "execution_count": 62,
   "metadata": {},
   "outputs": [],
   "source": [
    "x_test_kaggle = usuarios.loc[usuarios['person'].isin(ids_usuarios_kaggle['person']), :]"
   ]
  },
  {
   "cell_type": "code",
   "execution_count": 63,
   "metadata": {},
   "outputs": [],
   "source": [
    "x_test_kaggle = x_test_kaggle.set_index('person')"
   ]
  },
  {
   "cell_type": "code",
   "execution_count": 64,
   "metadata": {},
   "outputs": [],
   "source": [
    "# Predecimos\n",
    "preds_kaggle = logreg.predict_proba(x_test_kaggle)[:,1]"
   ]
  },
  {
   "cell_type": "code",
   "execution_count": 65,
   "metadata": {},
   "outputs": [
    {
     "data": {
      "text/plain": [
       "array([0.03460014, 0.05076453, 0.0196846 , ..., 0.05068812, 0.08932465,\n",
       "       0.04287326])"
      ]
     },
     "execution_count": 65,
     "metadata": {},
     "output_type": "execute_result"
    }
   ],
   "source": [
    "preds_kaggle"
   ]
  },
  {
   "cell_type": "code",
   "execution_count": 66,
   "metadata": {},
   "outputs": [],
   "source": [
    "pd.DataFrame({'person': x_test_kaggle.index, 'label': preds_kaggle}).to_csv('test.csv', index=False, columns=['person', 'label'])"
   ]
  },
  {
   "cell_type": "code",
   "execution_count": 67,
   "metadata": {},
   "outputs": [],
   "source": [
    "# Score en Kaggle = 0.68951"
   ]
  }
 ],
 "metadata": {
  "kernelspec": {
   "display_name": "Python 2",
   "language": "python",
   "name": "python2"
  },
  "language_info": {
   "codemirror_mode": {
    "name": "ipython",
    "version": 2
   },
   "file_extension": ".py",
   "mimetype": "text/x-python",
   "name": "python",
   "nbconvert_exporter": "python",
   "pygments_lexer": "ipython2",
   "version": "2.7.15"
  }
 },
 "nbformat": 4,
 "nbformat_minor": 2
}
