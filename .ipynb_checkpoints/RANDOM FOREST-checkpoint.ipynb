{
 "cells": [
  {
   "cell_type": "code",
   "execution_count": 19,
   "metadata": {},
   "outputs": [],
   "source": [
    "import pandas as pd\n",
    "import numpy as np\n",
    "import xgboost as xgb\n",
    "from sklearn.model_selection import train_test_split"
   ]
  },
  {
   "cell_type": "code",
   "execution_count": 20,
   "metadata": {},
   "outputs": [],
   "source": [
    "# Desactivo warning molesto\n",
    "pd.options.mode.chained_assignment = None  # default='warn'"
   ]
  },
  {
   "cell_type": "code",
   "execution_count": 21,
   "metadata": {},
   "outputs": [],
   "source": [
    "eventos = pd.read_csv('/home/lautaro/Desktop/events_up_to_01062018.csv', low_memory=False)"
   ]
  },
  {
   "cell_type": "code",
   "execution_count": 22,
   "metadata": {},
   "outputs": [],
   "source": [
    "labels = pd.read_csv('/home/lautaro/Desktop/labels_training_set.csv')"
   ]
  },
  {
   "cell_type": "code",
   "execution_count": 23,
   "metadata": {},
   "outputs": [],
   "source": [
    "eventos[\"timestamp\"] = pd.to_datetime(eventos[\"timestamp\"])"
   ]
  },
  {
   "cell_type": "code",
   "execution_count": 24,
   "metadata": {},
   "outputs": [],
   "source": [
    "eventos['viewed_product'] = (eventos['event'] == 'viewed product')\n",
    "eventos['brand_listing'] = (eventos['event'] == 'brand listing')\n",
    "eventos['visited_site'] = (eventos['event'] == 'visited site')\n",
    "eventos['ad_campaign_hit'] = (eventos['event'] == 'ad campaign hit')\n",
    "eventos['generic_listing'] = (eventos['event'] == 'generic listing')\n",
    "eventos['searched_products'] = (eventos['event'] == 'searched products')\n",
    "eventos['search_engine_hit'] = (eventos['event'] == 'search engine hit')\n",
    "eventos['checkout'] = (eventos['event'] == 'checkout')\n",
    "eventos['staticpage'] = (eventos['event'] == 'staticpage')\n",
    "eventos['conversion'] = (eventos['event'] == 'conversion')\n",
    "eventos['lead'] = (eventos['event'] == 'lead')"
   ]
  },
  {
   "cell_type": "code",
   "execution_count": 25,
   "metadata": {},
   "outputs": [],
   "source": [
    "eventos[\"mes\"] = eventos[\"timestamp\"].dt.month\n",
    "eventos[\"dia\"] = eventos[\"timestamp\"].dt.day\n",
    "eventos[\"semana\"] = eventos[\"timestamp\"].dt.week"
   ]
  },
  {
   "cell_type": "code",
   "execution_count": 26,
   "metadata": {},
   "outputs": [],
   "source": [
    "# Obtengo la ultima fecha disponible en el csv para tener un punto de partida\n",
    "ultima_fecha = eventos[\"timestamp\"].max()\n",
    "ultimo_dia = ultima_fecha.day\n",
    "ultimo_mes = ultima_fecha.month\n",
    "ultima_semana = ultima_fecha.week"
   ]
  },
  {
   "cell_type": "code",
   "execution_count": 27,
   "metadata": {},
   "outputs": [],
   "source": [
    "# Agrego columnas para los m meses más cercanos\n",
    "for m in range (0, ultimo_mes - 1):\n",
    "    eventos[\"mes_pasado_\" + str(m)] = (eventos[\"mes\"] == (ultimo_mes - m))"
   ]
  },
  {
   "cell_type": "code",
   "execution_count": 28,
   "metadata": {},
   "outputs": [],
   "source": [
    "# Agrego columnas para las s semanas más cercanas\n",
    "for s in range (0, 5):\n",
    "    eventos[\"semana_pasada_\" + str(s)] = (eventos[\"semana\"] == (ultima_semana - s))"
   ]
  },
  {
   "cell_type": "code",
   "execution_count": 29,
   "metadata": {},
   "outputs": [],
   "source": [
    "eventos = eventos.loc[:,['person', 'viewed_product', 'brand_listing', 'visited_site',\n",
    "       'ad_campaign_hit', 'generic_listing', 'searched_products',\n",
    "       'search_engine_hit', 'checkout', 'conversion', 'lead',\n",
    "       'mes_pasado_0', 'mes_pasado_1', 'mes_pasado_2', 'mes_pasado_3',\n",
    "       'semana_pasada_0', 'semana_pasada_1', 'semana_pasada_2',\n",
    "       'semana_pasada_3', 'semana_pasada_4']]"
   ]
  },
  {
   "cell_type": "code",
   "execution_count": 30,
   "metadata": {},
   "outputs": [],
   "source": [
    "usuarios = eventos.groupby('person', as_index=False).sum()"
   ]
  },
  {
   "cell_type": "code",
   "execution_count": 31,
   "metadata": {},
   "outputs": [],
   "source": [
    "# Incluyo solo los eventos de los usuarios que tengo labels\n",
    "usuarios_con_labels = usuarios.loc[usuarios['person'].isin(labels['person'])]"
   ]
  },
  {
   "cell_type": "code",
   "execution_count": 32,
   "metadata": {},
   "outputs": [],
   "source": [
    "usuarios_con_labels = usuarios_con_labels.set_index('person')"
   ]
  },
  {
   "cell_type": "code",
   "execution_count": 33,
   "metadata": {},
   "outputs": [],
   "source": [
    "labels = labels.set_index('person')"
   ]
  },
  {
   "cell_type": "code",
   "execution_count": 41,
   "metadata": {},
   "outputs": [],
   "source": [
    "x_train, X_test, y_train, y_test = train_test_split(usuarios_con_labels, labels, test_size=0.2, random_state=123)"
   ]
  },
  {
   "cell_type": "code",
   "execution_count": 37,
   "metadata": {},
   "outputs": [],
   "source": [
    "# FIN DE LA PREPARACION DE LOS DATAFRAMES"
   ]
  },
  {
   "cell_type": "code",
   "execution_count": 39,
   "metadata": {},
   "outputs": [],
   "source": [
    "from sklearn.ensemble import RandomForestRegressor"
   ]
  },
  {
   "cell_type": "code",
   "execution_count": 40,
   "metadata": {},
   "outputs": [],
   "source": [
    "regr = RandomForestRegressor(max_depth=2, random_state=0, n_estimators=100)"
   ]
  },
  {
   "cell_type": "code",
   "execution_count": 45,
   "metadata": {},
   "outputs": [
    {
     "data": {
      "text/plain": [
       "RandomForestRegressor(bootstrap=True, criterion='mse', max_depth=2,\n",
       "           max_features='auto', max_leaf_nodes=None,\n",
       "           min_impurity_decrease=0.0, min_impurity_split=None,\n",
       "           min_samples_leaf=1, min_samples_split=2,\n",
       "           min_weight_fraction_leaf=0.0, n_estimators=100, n_jobs=1,\n",
       "           oob_score=False, random_state=0, verbose=0, warm_start=False)"
      ]
     },
     "execution_count": 45,
     "metadata": {},
     "output_type": "execute_result"
    }
   ],
   "source": [
    "regr.fit(x_train, y_train['label'])"
   ]
  },
  {
   "cell_type": "code",
   "execution_count": null,
   "metadata": {},
   "outputs": [],
   "source": []
  },
  {
   "cell_type": "code",
   "execution_count": null,
   "metadata": {},
   "outputs": [],
   "source": []
  },
  {
   "cell_type": "code",
   "execution_count": null,
   "metadata": {},
   "outputs": [],
   "source": []
  },
  {
   "cell_type": "code",
   "execution_count": null,
   "metadata": {},
   "outputs": [],
   "source": [
    ">>> \n",
    ">>> regr.fit(X, y)\n",
    "RandomForestRegressor(bootstrap=True, criterion='mse', max_depth=2,\n",
    "           max_features='auto', max_leaf_nodes=None,\n",
    "           min_impurity_decrease=0.0, min_impurity_split=None,\n",
    "           min_samples_leaf=1, min_samples_split=2,\n",
    "           min_weight_fraction_leaf=0.0, n_estimators=100, n_jobs=None,\n",
    "           oob_score=False, random_state=0, verbose=0, warm_start=False)\n",
    ">>> print(regr.feature_importances_)\n",
    "[0.18146984 0.81473937 0.00145312 0.00233767]\n",
    ">>> print(regr.predict([[0, 0, 0, 0]]))\n",
    "[-8.32987858]"
   ]
  }
 ],
 "metadata": {
  "kernelspec": {
   "display_name": "Python 2",
   "language": "python",
   "name": "python2"
  },
  "language_info": {
   "codemirror_mode": {
    "name": "ipython",
    "version": 2
   },
   "file_extension": ".py",
   "mimetype": "text/x-python",
   "name": "python",
   "nbconvert_exporter": "python",
   "pygments_lexer": "ipython2",
   "version": "2.7.15"
  }
 },
 "nbformat": 4,
 "nbformat_minor": 2
}
